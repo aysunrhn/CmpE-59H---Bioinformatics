{
 "cells": [
  {
   "cell_type": "markdown",
   "metadata": {},
   "source": [
    "# CmpE 59H: Assignment 1 \n",
    "## Aysun Urhan - November 16, 2018\n",
    "\n",
    "### 1. MATLAB Codes:\n",
    "- Function to convert aminoacis sequence from integer to character arrays and vice versa"
   ]
  },
  {
   "cell_type": "code",
   "execution_count": 28,
   "metadata": {
    "collapsed": false
   },
   "outputs": [
    {
     "name": "stdout",
     "output_type": "stream",
     "text": [
      "Created file 'C:\\Users\\Aysun\\Google Drive\\PhD\\PhD. - 201819 Fall\\CmpE59H\\Assignments\\Assignment 1\\convertSeq.m'.\n"
     ]
    }
   ],
   "source": [
    "%%file convertSeq.m\n",
    "function [outSeq] = convertSeq(inSeq, flag)\n",
    "% To convert a.a. sequence from int to characters and vice versa\n",
    "seqSize = size(inSeq);\n",
    "\n",
    "switch lower(flag)\n",
    "    case 'to int'\n",
    "        if isempty(inSeq)\n",
    "            outSeq = uint8([]);\n",
    "            return\n",
    "        end        \n",
    "        unknown = 0;\n",
    "        map = uint8(...\n",
    "            [1 21 5 4 7 14 8 9 10 0 12 11 13 3 0 15 6 2 16 17 0 20 18 23 19 22 24 25 0]);\n",
    "        \n",
    "        if unknown ~= 0\n",
    "            map(map == 0) = unknown;\n",
    "        end        \n",
    "        inSeq = lower(inSeq)-96; \n",
    "                \n",
    "        % Adjusting\n",
    "        inSeq = min(max(inSeq, 0), 27);  \n",
    "        inSeq(inSeq == 0)  = 29;\n",
    "        inSeq(inSeq == 27) = 29;\n",
    "        inSeq(inSeq ==-51) = 28;  \n",
    "        inSeq(inSeq ==-54) = 27;  \n",
    "        \n",
    "        outSeq = map(inSeq);        \n",
    "        outSeq = reshape(outSeq, seqSize);\n",
    "        \n",
    "    case 'to char'\n",
    "        if isempty(inSeq)\n",
    "            outSeq = '';\n",
    "            return\n",
    "        end\n",
    "        \n",
    "        inSeq = inSeq(:);\n",
    "        inSeq = inSeq';\n",
    "        \n",
    "        map = '?ARNDCQEGHILKMFPSTWYVBZX*-?';\n",
    " \n",
    "        inSeq(inSeq > 26) = 0;\n",
    "        inSeq(inSeq < 0) = 0;\n",
    "        seqLength = length(inSeq);\n",
    "\n",
    "        outSeq = char(0);\n",
    "        outSeq(1, seqLength) = char(0);\n",
    "        \n",
    "        for i = 1:seqLength\n",
    "            outSeq(i) = map(double(inSeq(i)) + 1);\n",
    "        end\n",
    "        outSeq = reshape(outSeq, seqSize);\n",
    "end"
   ]
  },
  {
   "cell_type": "markdown",
   "metadata": {},
   "source": [
    "- Needleman-Wunsch algorithm for global alignment, modified to handle affine gaps"
   ]
  },
  {
   "cell_type": "code",
   "execution_count": 29,
   "metadata": {
    "collapsed": false
   },
   "outputs": [
    {
     "name": "stdout",
     "output_type": "stream",
     "text": [
      "Created file 'C:\\Users\\Aysun\\Google Drive\\PhD\\PhD. - 201819 Fall\\CmpE59H\\Assignments\\Assignment 1\\NWAlgo.m'.\n"
     ]
    }
   ],
   "source": [
    "%%file NWAlgo.m\n",
    "function [M, traceBack, score, alignment] = NWAlgo(intseq1, m, intseq2, n, ScoringMatrix, gapOpen, gapExtend)\n",
    "% Needleman-Wunsch algorithm modified to handle affine gaps\n",
    "\n",
    "% Directions when moving on a 2D surface of the matrix:\n",
    "fDiag = 1; % match/mismatch\n",
    "fUp   = 2; % gaps in X\n",
    "fLeft = 3; % gaps in Y\n",
    "numMoves = 3;\n",
    "seq1 = convertSeq(intseq1, 'to char');\n",
    "seq2 = convertSeq(intseq2, 'to char');\n",
    "\n",
    "% Initializing 3D matrix to keep max scores at each state\n",
    "M = zeros(n+1, m+1, numMoves);\n",
    "M(:, 1, :) = -inf;\n",
    "M(1, :, :) = -inf;\n",
    "M(1, 1, fDiag) = 0;\n",
    "\n",
    "M(2:end, 1, fUp)   = gapOpen + gapExtend*(0:n - 1)';\n",
    "M(1, 2:end, fLeft) = gapOpen + gapExtend*(0:m - 1);\n",
    "\n",
    "% Initializing a 3D pointer to trace back our path\n",
    "traceBack(n+1, m+1, numMoves) = uint8(0);\n",
    "traceBack(2:end, 1, fUp)   = 2;  % Up\n",
    "traceBack(1, 2:end, fLeft) = 3;  % Left\n",
    "\n",
    "% Main dynamic programming loop\n",
    "for i = 2:n + 1\n",
    "    % Loop for moving on the 2D surface of our matrix\n",
    "    for j = 2:m + 1\n",
    "        % Ix\n",
    "        sUpOpen   = M(i - 1, j, fDiag) + gapOpen; % new gap in seq 1 (X)\n",
    "        sUpExtend = M(i - 1, j, fUp) + gapExtend; % gap extension in X\n",
    "       \n",
    "        % Iy\n",
    "        sLeftOpen   = M(i, j - 1, fDiag) + gapOpen;   % new gap in seq2 (Y)\n",
    "        sLeftExtend = M(i, j - 1, fLeft) + gapExtend; % gap extension in Y\n",
    "        \n",
    "        % M\n",
    "        sDiag = M(i - 1, j - 1, fDiag);  % cont diag\n",
    "        sUp   = M(i - 1, j - 1, fUp);    % end gap in X\n",
    "        sLeft = M(i - 1, j - 1, fLeft);  % end gap in Y\n",
    "\n",
    "        % Going up\n",
    "        if sUpOpen > sUpExtend\n",
    "            bestUp = sUpOpen; \n",
    "            dir = 1; % new gap in X\n",
    "        elseif sUpOpen < sUpExtend\n",
    "            bestUp = sUpExtend; \n",
    "            dir = 2; % extend gap in X\n",
    "        else \n",
    "            bestUp = sUpOpen; \n",
    "            dir = 2; % extend gap in X\n",
    "        end      \n",
    "        M(i, j, fUp) = bestUp;\n",
    "        traceBack(i, j, fUp) = dir;\n",
    "\n",
    "        % Going left\n",
    "        if sLeftOpen > sLeftExtend\n",
    "            bestLeft = sLeftOpen; \n",
    "            dir = 1; % new gap in Y\n",
    "        elseif sLeftOpen < sLeftExtend\n",
    "            bestLeft = sLeftExtend; \n",
    "            dir = 3; % extend gap in Y\n",
    "        else \n",
    "            bestLeft = sLeftOpen; \n",
    "            dir = 3; % extend gap in Y\n",
    "        end\n",
    "        M(i, j, fLeft) = bestLeft;\n",
    "        traceBack(i, j, fLeft) = dir;\n",
    "\n",
    "        % Going diagonal\n",
    "        [a, b] = max([sDiag, sUp, sLeft]);\n",
    "        dir = b; \n",
    "        bestDiag = a + ScoringMatrix(intseq1(j - 1), intseq2(i - 1));\n",
    "        M(i, j, fDiag) = bestDiag;\n",
    "        traceBack(i, j, fDiag) = dir;\n",
    "    end \n",
    "end \n",
    "\n",
    "[score, pos] = max(M(end, end, :));\n",
    "score = score(1); pos = pos(1);\n",
    "\n",
    "% Alignment\n",
    "i = n + 1; j = m + 1;\n",
    "count = 1;\n",
    "while (i > 1) && (j > 1)\n",
    "   switch pos\n",
    "       case 1 % Diag\n",
    "           path(count, :) = [j - 1, i - 1];\n",
    "           dir = traceBack(i, j, pos); pos = dir;\n",
    "           j = j - 1;\n",
    "           i = i - 1;\n",
    "       case 2 % Up\n",
    "           path(count, :) = [0, i - 1];\n",
    "           dir = traceBack(i, j, pos); pos = dir;\n",
    "           i = i - 1;\n",
    "       case 3 % Left\n",
    "           path(count, :) = [j - 1, 0];\n",
    "           dir = traceBack(i, j, pos); pos = dir;\n",
    "           j = j - 1;\n",
    "       case 0\n",
    "           break\n",
    "   end\n",
    "   if (i == 1) && (i < j)\n",
    "       i = 2;\n",
    "   elseif (j == 1) && (j < i)\n",
    "       j = 2;\n",
    "   end\n",
    "   [a, b] = find(path == 1);\n",
    "   checkEnd = ismember([1, 2], b);\n",
    "   if sum(checkEnd) > 1\n",
    "       remSeq1 = a(b == 1);\n",
    "       path(min(size(path, 1), remSeq1(1))+1:end, 1) = 0;\n",
    "       remSeq2 = a(b == 2);\n",
    "       path(min(size(path, 1), remSeq2(1))+1:end, 2) = 0;\n",
    "       break\n",
    "   end\n",
    "   count = count + 1;\n",
    "end\n",
    "\n",
    "path = flipud(path);\n",
    "alignment = repmat(('--')', 1, size(path, 1));\n",
    "alignment(1, path(:, 1) > 0) = seq1;\n",
    "alignment(2, path(:, 2) > 0) = seq2;"
   ]
  },
  {
   "cell_type": "markdown",
   "metadata": {},
   "source": [
    "- Smith-Waterman algorithm for local alignment, modified to handle affine gaps"
   ]
  },
  {
   "cell_type": "code",
   "execution_count": 30,
   "metadata": {
    "collapsed": false
   },
   "outputs": [
    {
     "name": "stdout",
     "output_type": "stream",
     "text": [
      "Created file 'C:\\Users\\Aysun\\Google Drive\\PhD\\PhD. - 201819 Fall\\CmpE59H\\Assignments\\Assignment 1\\SWAlgo.m'.\n"
     ]
    }
   ],
   "source": [
    "%%file SWAlgo.m\n",
    "function [M, traceBack, score, alignment] = SWAlgo(intseq1, m, intseq2, n, ScoringMatrix, gapOpen, gapExtend)\n",
    "% Smith-Waterman algorithm modified to handle affine gaps\n",
    "\n",
    "% Directions when moving on a 2D surface of the matrix:\n",
    "fDiag = 1; % match/mismatch\n",
    "fUp   = 2; % gaps in X\n",
    "fLeft = 3; % gaps in Y\n",
    "numMoves = 3;\n",
    "seq1 = convertSeq(intseq1, 'to char');\n",
    "seq2 = convertSeq(intseq2, 'to char');\n",
    "\n",
    "% Initializing a 3D matrix to keep max scores at each state\n",
    "M = zeros(n+1, m+1, numMoves);\n",
    "\n",
    "% Initializing a 3D pointer to trace back our path\n",
    "traceBack(n+1, m+1, numMoves) = uint8(0);\n",
    "\n",
    "% Main dynamic programming loop\n",
    "for i = 2:n + 1\n",
    "    % Loop for moving on the 2D surface of our matrix\n",
    "    for j = 2:m + 1\n",
    "        % Ix\n",
    "        sUpOpen   = M(i - 1, j, fDiag) + gapOpen; % new gap in seq 1 (X)\n",
    "        sUpExtend = M(i - 1, j, fUp) + gapExtend; % gap extension in X\n",
    "       \n",
    "        % Iy\n",
    "        sLeftOpen   = M(i, j - 1, fDiag) + gapOpen;   % new gap in seq2 (Y)\n",
    "        sLeftExtend = M(i, j - 1, fLeft) + gapExtend; % gap extension in Y\n",
    "        \n",
    "        % M\n",
    "        sDiag = M(i - 1, j - 1, fDiag);  % cont diag\n",
    "        sUp   = M(i - 1, j - 1, fUp);    % end gap in X\n",
    "        sLeft = M(i - 1, j - 1, fLeft);  % end gap in Y\n",
    "\n",
    "        % Going up\n",
    "        if sUpOpen > sUpExtend\n",
    "            bestUp = sUpOpen; \n",
    "            dir = 1; % new gap in X\n",
    "        elseif sUpOpen < sUpExtend\n",
    "            bestUp = sUpExtend; \n",
    "            dir = 2; % extend gap in X\n",
    "        else \n",
    "            bestUp = sUpOpen; \n",
    "            dir = 2; % extend gap in X\n",
    "        end   \n",
    "        if bestUp > 0\n",
    "            M(i, j, fUp) = bestUp;\n",
    "            traceBack(i, j, fUp) = dir;\n",
    "        else\n",
    "            M(i, j, fUp) = 0;\n",
    "            traceBack(i, j, fUp) = 0;\n",
    "        end\n",
    "        \n",
    "        % Going left\n",
    "        if sLeftOpen > sLeftExtend\n",
    "            bestLeft = sLeftOpen; \n",
    "            dir = 1; % new gap in Y\n",
    "        elseif sLeftOpen < sLeftExtend\n",
    "            bestLeft = sLeftExtend; \n",
    "            dir = 3; % extend gap in Y\n",
    "        else \n",
    "            bestLeft = sLeftOpen; \n",
    "            dir = 3; % extend gap in Y\n",
    "        end\n",
    "        if bestLeft > 0\n",
    "            M(i, j, fLeft) = bestLeft;\n",
    "            traceBack(i, j, fLeft) = dir;\n",
    "        else\n",
    "            M(i, j, fLeft) = 0;\n",
    "            traceBack(i, j, fLeft) = 0;\n",
    "        end\n",
    "\n",
    "        % Going diagonal\n",
    "        [a, b] = max([sDiag, sUp, sLeft]);\n",
    "        dir = b; \n",
    "        bestDiag = a + ScoringMatrix(intseq1(j - 1), intseq2(i - 1));\n",
    "        if bestDiag > 0\n",
    "            M(i, j, fDiag) = bestDiag;\n",
    "            traceBack(i, j, fDiag) = dir;\n",
    "        else\n",
    "            M(i, j, fDiag) = 0;\n",
    "            traceBack(i, j, fDiag) = 0;\n",
    "        end\n",
    "    end \n",
    "end \n",
    "\n",
    "score   = max(M(:));\n",
    "[i, j, pos] = ind2sub(size(M), find(M == score, 1));\n",
    "\n",
    "% Alignment\n",
    "count = 1;\n",
    "while (i > 1) && (j > 1)\n",
    "    switch pos\n",
    "        case 1 % Diag\n",
    "            path(count, :) = [j - 1, i - 1];\n",
    "            dir = traceBack(i, j, pos); pos = dir;\n",
    "            j = j - 1;\n",
    "            i = i - 1;\n",
    "        case 2 % Up\n",
    "            path(count, :) = [0, i - 1];\n",
    "            dir = traceBack(i, j, pos); pos = dir;\n",
    "            i = i - 1;\n",
    "        case 3 % Left\n",
    "            path(count, :) = [j - 1, 0];\n",
    "            dir = traceBack(i, j, pos); pos = dir;\n",
    "            j = j - 1;\n",
    "        case 0\n",
    "            break\n",
    "    end\n",
    "    if (i == 1) && (i < j)\n",
    "        i = 2;\n",
    "    elseif (j == 1) && (j < i)\n",
    "        j = 2;\n",
    "    end\n",
    "    [a, b] = find(path == 1);\n",
    "    checkEnd = ismember([1, 2], b);\n",
    "    if sum(checkEnd) > 1\n",
    "        remSeq1 = a(b == 1);\n",
    "        path(min(size(path, 1), remSeq1(1))+1:end, 1) = 0;\n",
    "        remSeq2 = a(b == 2);\n",
    "        path(min(size(path, 1), remSeq2(1))+1:end, 2) = 0;\n",
    "        break\n",
    "    end\n",
    "    count = count + 1;\n",
    "end\n",
    "\n",
    "if (count > 1) && (count < max(m, n))\n",
    "    path(end, :) = [];\n",
    "end\n",
    "path = flipud(path);\n",
    "\n",
    "alignment = repmat(('--')', 1, size(path, 1));\n",
    "alignment(1, path(:, 1) > 0) = seq1(path(path(:, 1) > 0, 1));\n",
    "alignment(2, path(:, 2) > 0) = seq2(path(path(:, 2) > 0, 2));"
   ]
  },
  {
   "cell_type": "markdown",
   "metadata": {},
   "source": [
    "- Main function for alignment, it calls the subfunctions above"
   ]
  },
  {
   "cell_type": "code",
   "execution_count": 31,
   "metadata": {
    "collapsed": false
   },
   "outputs": [
    {
     "name": "stdout",
     "output_type": "stream",
     "text": [
      "Created file 'C:\\Users\\Aysun\\Google Drive\\PhD\\PhD. - 201819 Fall\\CmpE59H\\Assignments\\Assignment 1\\alignSeq.m'.\n"
     ]
    }
   ],
   "source": [
    "%%file alignSeq.m\n",
    "function [score, alignment, M, traceBack] = alignSeq(seq1, seq2, gapOpen, gapExt, flagA)\n",
    "\n",
    "% Read the scoring matrix\n",
    "tmp = importdata('BLOSUM62.txt', ' ', 7);\n",
    "ScoringMatrix = tmp.data;\n",
    "\n",
    "% Just to make sure the gap penalties are negative\n",
    "if sign(gapOpen) > 0\n",
    "    gapOpen = -1*gapOpen;\n",
    "end\n",
    "if sign(gapExt) > 0\n",
    "    gapExt  = -1*gapExt;\n",
    "end\n",
    "\n",
    "% Converting the aa sequence to int array if it's a character array\n",
    "if ischar(seq1)\n",
    "    seq1    = upper(seq1); % the output alignment will be all uppercase\n",
    "    intseq1 = convertSeq(seq1, 'to int');\n",
    "else\n",
    "    intseq1 = uint8(seq1);\n",
    "    seq1    = convertSeq(intseq1, 'to char');\n",
    "end\n",
    "if ischar(seq2)\n",
    "    seq2    = upper(seq2); % the output alignment will be all uppercase\n",
    "    intseq2 = convertSeq(seq2, 'to int');\n",
    "else\n",
    "    intseq2 = uint8(seq2);\n",
    "    seq2    = convertSeq(intseq2, 'to char');\n",
    "end\n",
    "\n",
    "m = length(seq1);\n",
    "n = length(seq2);\n",
    "\n",
    "if ~n||~m\n",
    "    error('Empty strings!!');\n",
    "end\n",
    "\n",
    "% To handle unknown/weird characters outside our scoring matrix\n",
    "% map all foreign objects to 'X'\n",
    "weirdo      = convertSeq('X', 'to int');\n",
    "maxAllowed  = size(ScoringMatrix, 1);\n",
    "highestVal  = max([intseq1, intseq2]);\n",
    "if highestVal > maxAllowed\n",
    "    % if the matrix contains the 'Any' we map to that\n",
    "    intseq1(intseq1 > maxAllowed) = weirdo;\n",
    "    intseq2(intseq2 > maxAllowed) = weirdo;\n",
    "end\n",
    "\n",
    "switch lower(flagA)\n",
    "    case 'global'\n",
    "        [M, traceBack, score, alignment] = NWAlgo(intseq1, m, intseq2, n, ...\n",
    "            ScoringMatrix, gapOpen, gapExt);\n",
    "    case 'local'\n",
    "        [M, traceBack, score, alignment] = SWAlgo(intseq1, m, intseq2, n, ...\n",
    "            ScoringMatrix, gapOpen, gapExt);\n",
    "    otherwise\n",
    "        error('Specify your algorithm!!');\n",
    "end"
   ]
  },
  {
   "cell_type": "markdown",
   "metadata": {},
   "source": [
    "### 2. Example Use with Test Pairs\n",
    "#### Global alignment\n",
    "\n",
    "- Test pair 1:"
   ]
  },
  {
   "cell_type": "code",
   "execution_count": 32,
   "metadata": {
    "collapsed": false
   },
   "outputs": [
    {
     "name": "stdout",
     "output_type": "stream",
     "text": [
      "\n",
      "score =\n",
      "\n",
      "    -1\n",
      "\n",
      "\n",
      "alignment =\n",
      "\n",
      "  2x10 char array\n",
      "\n",
      "    'PLEASANTLY'\n",
      "    '-MEAN---LY'\n",
      "\n",
      "\n"
     ]
    }
   ],
   "source": [
    "testPair = importdata('test-pair1.txt'); % reading sequences\n",
    "seq1 = testPair{1};\n",
    "seq2 = testPair{2};\n",
    "gapOpen = 11; % gap opening penalty\n",
    "gapExt  = 1;  % gap extension penalty\n",
    "algo    = 'global'; % specify type of aligment\n",
    "[score, alignment] = alignSeq(seq1, seq2, gapOpen, gapExt, algo);\n",
    "score, alignment"
   ]
  },
  {
   "cell_type": "markdown",
   "metadata": {},
   "source": [
    "- Test pair 2:"
   ]
  },
  {
   "cell_type": "code",
   "execution_count": 33,
   "metadata": {
    "collapsed": false
   },
   "outputs": [
    {
     "name": "stdout",
     "output_type": "stream",
     "text": [
      "\n",
      "score =\n",
      "\n",
      "     8\n",
      "\n",
      "\n",
      "alignment =\n",
      "\n",
      "  2x10 char array\n",
      "\n",
      "    'PRT---EINS'\n",
      "    'PRTWPSEIN-'\n",
      "\n",
      "\n"
     ]
    }
   ],
   "source": [
    "testPair = importdata('test-pair2.txt'); % reading sequences\n",
    "seq1 = testPair{1};\n",
    "seq2 = testPair{2};\n",
    "gapOpen = 11; % gap opening penalty\n",
    "gapExt  = 1;  % gap extension penalty\n",
    "algo    = 'global'; % specify type of aligment\n",
    "[score, alignment] = alignSeq(seq1, seq2, gapOpen, gapExt, algo);\n",
    "score, alignment"
   ]
  },
  {
   "cell_type": "markdown",
   "metadata": {},
   "source": [
    "- Test pair 3:"
   ]
  },
  {
   "cell_type": "code",
   "execution_count": 34,
   "metadata": {
    "collapsed": false
   },
   "outputs": [
    {
     "name": "stdout",
     "output_type": "stream",
     "text": [
      "\n",
      "score =\n",
      "\n",
      "   144\n",
      "\n",
      "\n",
      "alignment =\n",
      "\n",
      "  2x92 char array\n",
      "\n",
      "    'YHFDVPDCWAHRYWVENPQAIAQME-------QICFNWFPSMMMK-------QPHVF---KVDHHMSCRWLPIRGKKCSSCCTRMRVRTVWE'\n",
      "    'YHEDV----AHE------DAIAQMVNTFGFVWQICLNQFPSMMMKIYWIAVLSAHVADRKTWSKHMSCRWLPI----ISATCARMRVRTVWE'\n",
      "\n",
      "\n"
     ]
    }
   ],
   "source": [
    "testPair = importdata('test-pair3.txt'); % reading sequences\n",
    "seq1 = testPair{1};\n",
    "seq2 = testPair{2};\n",
    "gapOpen = 11; % gap opening penalty\n",
    "gapExt  = 1;  % gap extension penalty\n",
    "algo    = 'global'; % specify type of aligment\n",
    "[score, alignment] = alignSeq(seq1, seq2, gapOpen, gapExt, algo);\n",
    "score, alignment"
   ]
  },
  {
   "cell_type": "markdown",
   "metadata": {},
   "source": [
    "#### Local alignment\n",
    "- Test pair 1:"
   ]
  },
  {
   "cell_type": "code",
   "execution_count": 35,
   "metadata": {
    "collapsed": false
   },
   "outputs": [
    {
     "name": "stdout",
     "output_type": "stream",
     "text": [
      "\n",
      "score =\n",
      "\n",
      "    12\n",
      "\n",
      "\n",
      "alignment =\n",
      "\n",
      "  2x4 char array\n",
      "\n",
      "    'LEAS'\n",
      "    'MEAN'\n",
      "\n",
      "\n"
     ]
    }
   ],
   "source": [
    "testPair = importdata('test-pair1.txt'); % reading sequences\n",
    "seq1 = testPair{1};\n",
    "seq2 = testPair{2};\n",
    "gapOpen = 11; % gap opening penalty\n",
    "gapExt  = 1;  % gap extension penalty\n",
    "algo    = 'local'; % specify type of aligment\n",
    "[score, alignment] = alignSeq(seq1, seq2, gapOpen, gapExt, algo);\n",
    "score, alignment"
   ]
  },
  {
   "cell_type": "markdown",
   "metadata": {},
   "source": [
    "- Test pair 2:"
   ]
  },
  {
   "cell_type": "code",
   "execution_count": 36,
   "metadata": {
    "collapsed": false
   },
   "outputs": [
    {
     "name": "stdout",
     "output_type": "stream",
     "text": [
      "\n",
      "score =\n",
      "\n",
      "    19\n",
      "\n",
      "\n",
      "alignment =\n",
      "\n",
      "  2x9 char array\n",
      "\n",
      "    'PRT---EIN'\n",
      "    'PRTWPSEIN'\n",
      "\n",
      "\n"
     ]
    }
   ],
   "source": [
    "testPair = importdata('test-pair2.txt'); % reading sequences\n",
    "seq1 = testPair{1};\n",
    "seq2 = testPair{2};\n",
    "gapOpen = 11; % gap opening penalty\n",
    "gapExt  = 1;  % gap extension penalty\n",
    "algo    = 'local'; % specify type of aligment\n",
    "[score, alignment] = alignSeq(seq1, seq2, gapOpen, gapExt, algo);\n",
    "score, alignment"
   ]
  },
  {
   "cell_type": "markdown",
   "metadata": {},
   "source": [
    "- Test pair 3:"
   ]
  },
  {
   "cell_type": "code",
   "execution_count": 37,
   "metadata": {
    "collapsed": false
   },
   "outputs": [
    {
     "name": "stdout",
     "output_type": "stream",
     "text": [
      "\n",
      "score =\n",
      "\n",
      "   144\n",
      "\n",
      "\n",
      "alignment =\n",
      "\n",
      "  2x92 char array\n",
      "\n",
      "    'YHFDVPDCWAHRYWVENPQAIAQME-------QICFNWFPSMMMK-------QPHVF---KVDHHMSCRWLPIRGKKCSSCCTRMRVRTVWE'\n",
      "    'YHEDV----AHE------DAIAQMVNTFGFVWQICLNQFPSMMMKIYWIAVLSAHVADRKTWSKHMSCRWLPI----ISATCARMRVRTVWE'\n",
      "\n",
      "\n"
     ]
    }
   ],
   "source": [
    "% Test pair 3:\n",
    "testPair = importdata('test-pair3.txt'); % reading sequences\n",
    "seq1 = testPair{1};\n",
    "seq2 = testPair{2};\n",
    "gapOpen = 11; % gap opening penalty\n",
    "gapExt  = 1;  % gap extension penalty\n",
    "algo    = 'local'; % specify type of aligment\n",
    "[score, alignment] = alignSeq(seq1, seq2, gapOpen, gapExt, algo);\n",
    "score, alignment"
   ]
  }
 ],
 "metadata": {
  "kernelspec": {
   "display_name": "Matlab",
   "language": "matlab",
   "name": "matlab"
  },
  "language_info": {
   "codemirror_mode": "octave",
   "file_extension": ".m",
   "help_links": [
    {
     "text": "MetaKernel Magics",
     "url": "https://github.com/calysto/metakernel/blob/master/metakernel/magics/README.md"
    }
   ],
   "mimetype": "text/x-matlab",
   "name": "matlab",
   "version": "0.14.3"
  }
 },
 "nbformat": 4,
 "nbformat_minor": 2
}
