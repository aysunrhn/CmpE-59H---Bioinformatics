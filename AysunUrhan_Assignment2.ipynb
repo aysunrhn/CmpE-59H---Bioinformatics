{
 "cells": [
  {
   "cell_type": "markdown",
   "metadata": {},
   "source": [
    "# CmpE 59H: Assignment 2 \n",
    "## Aysun Urhan - December 28, 2018\n",
    "\n",
    "### 1. MATLAB Codes:\n",
    "Burrows-Wheeler Transform (encoding)"
   ]
  },
  {
   "cell_type": "code",
   "execution_count": 1,
   "metadata": {
    "collapsed": false
   },
   "outputs": [
    {
     "name": "stdout",
     "output_type": "stream",
     "text": [
      "Created file 'C:\\Users\\Aysun\\Google Drive\\PhD\\PhD. - 201819 Fall\\CmpE59H\\Assignments\\Assignment 2\\BWTEncode.m'.\n"
     ]
    }
   ],
   "source": [
    "%%file BWTEncode.m\n",
    "function encStr = BWTEncode(strInput)\n",
    "% Program for Burrows-Wheeler (BW) transformation (encoding)\n",
    "\n",
    "% Just checking to make sure the input string ends with a '$' \n",
    "if ~strcmpi(strInput(end), '$')\n",
    "    strInput = [strInput, '$'];\n",
    "end\n",
    "strLength = length(strInput);\n",
    "\n",
    "strCell{1} = strInput;\n",
    "strMat     = strInput;\n",
    "% Shifting the string to obtain the BWT matrix\n",
    "for i = 1:strLength - 1 \n",
    "\tstrMat = [strMat; circshift(strInput, [1 i])];  \n",
    "    strCell{i+1, 1} = circshift(strInput, [1 i]);\n",
    "end\n",
    "% Sorting the BWT matrix in alphabetical order\n",
    "sortedMat  = sortrows(strMat);\n",
    "sortedCell = sort(strCell); \n",
    "\n",
    "% Extract the last column of sorted matrix/cell to obtain the BW transform\n",
    "for i = 1:strLength\n",
    "    a = char(sortedCell{i});\n",
    "    encStr(i) = a(end);\n",
    "end\n",
    "BWTString2 = sortedMat(:, end)';\n"
   ]
  },
  {
   "cell_type": "markdown",
   "metadata": {},
   "source": [
    "Inverse Burrows-Wheeler Transform (decoding)"
   ]
  },
  {
   "cell_type": "code",
   "execution_count": 2,
   "metadata": {
    "collapsed": false
   },
   "outputs": [
    {
     "name": "stdout",
     "output_type": "stream",
     "text": [
      "Created file 'C:\\Users\\Aysun\\Google Drive\\PhD\\PhD. - 201819 Fall\\CmpE59H\\Assignments\\Assignment 2\\BWTDecode.m'.\n"
     ]
    }
   ],
   "source": [
    "%%file BWTDecode.m\n",
    "function decStr = BWTDecode(encStr)\n",
    "% Program for inverse Burrows-Wheeler (BW) transformation (decoding)\n",
    "\n",
    "strLength = length(encStr);\n",
    "% Initializing the first and last columns of BTW matrix\n",
    "strMat(:, strLength) = encStr';\n",
    "[sortStr, idx] = sort(encStr);\n",
    "strMat(:, 1)   = sortStr';\n",
    "\n",
    "% Filling in the BWT matrix\n",
    "for j = 2:strLength - 1\n",
    "    for i = 1:strLength\n",
    "        strMat(i, j) = strMat(idx(i), j - 1);\n",
    "    end\n",
    "end\n",
    "% Find the row that ends with '$' to obtain the decoded string\n",
    "rowIdx = strfind(string(strMat(:, end)'), '$');\n",
    "decStr = strMat(rowIdx, :);"
   ]
  },
  {
   "cell_type": "markdown",
   "metadata": {},
   "source": [
    "### 2. Example Use with Sample Input\n",
    "#### Encoding\n",
    "Using built-in MATLAB function 'strcmpi' to check whether the output string is the correct encoding which should return true"
   ]
  },
  {
   "cell_type": "code",
   "execution_count": 3,
   "metadata": {
    "collapsed": false
   },
   "outputs": [
    {
     "name": "stdout",
     "output_type": "stream",
     "text": [
      "\n",
      "encStr =\n",
      "\n",
      "    'ACTGGCT$TGCGGC'\n",
      "\n",
      "\n"
     ]
    }
   ],
   "source": [
    "strInput = 'GCGTGCCTGGTCA$';\n",
    "encStr   = BWTEncode(strInput)\n",
    "correctOutput= 'ACTGGCT$TGCGGC';"
   ]
  },
  {
   "cell_type": "code",
   "execution_count": 4,
   "metadata": {
    "collapsed": false
   },
   "outputs": [
    {
     "name": "stdout",
     "output_type": "stream",
     "text": [
      "\n",
      "ans =\n",
      "\n",
      "  logical\n",
      "\n",
      "   1\n",
      "\n",
      "\n"
     ]
    }
   ],
   "source": [
    "strcmpi(encStr, correctOutput)"
   ]
  },
  {
   "cell_type": "markdown",
   "metadata": {},
   "source": [
    "Decoding\n",
    "Using built-in MATLAB function 'strcmpi' to check whether the decoded output matches the sample input which should return true\n"
   ]
  },
  {
   "cell_type": "code",
   "execution_count": 5,
   "metadata": {
    "collapsed": false
   },
   "outputs": [
    {
     "name": "stdout",
     "output_type": "stream",
     "text": [
      "\n",
      "decStr =\n",
      "\n",
      "    'GCGTGCCTGGTCA$'\n",
      "\n",
      "\n",
      "ans =\n",
      "\n",
      "  logical\n",
      "\n",
      "   1\n",
      "\n",
      "\n"
     ]
    }
   ],
   "source": [
    "decStr = BWTDecode(encStr)\n",
    "strcmpi(decStr, strInput)"
   ]
  },
  {
   "cell_type": "code",
   "execution_count": null,
   "metadata": {
    "collapsed": true
   },
   "outputs": [],
   "source": []
  }
 ],
 "metadata": {
  "kernelspec": {
   "display_name": "Matlab",
   "language": "matlab",
   "name": "matlab"
  },
  "language_info": {
   "codemirror_mode": "octave",
   "file_extension": ".m",
   "help_links": [
    {
     "text": "MetaKernel Magics",
     "url": "https://github.com/calysto/metakernel/blob/master/metakernel/magics/README.md"
    }
   ],
   "mimetype": "text/x-matlab",
   "name": "matlab",
   "version": "0.14.3"
  }
 },
 "nbformat": 4,
 "nbformat_minor": 2
}
